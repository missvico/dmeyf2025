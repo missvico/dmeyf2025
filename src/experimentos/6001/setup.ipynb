{
 "cells": [
  {
   "cell_type": "markdown",
   "id": "6e579fce-2b7f-4bce-8d07-dd7701c71cc7",
   "metadata": {},
   "source": [
    "## Setup "
   ]
  },
  {
   "cell_type": "code",
   "execution_count": 9,
   "id": "a244113d-fd1b-472a-a101-72fa9de5bacc",
   "metadata": {},
   "outputs": [],
   "source": [
    "%load_ext autoreload\n",
    "%autoreload 2"
   ]
  },
  {
   "cell_type": "code",
   "execution_count": 1,
   "id": "cd355628-4602-4b41-ba32-5b232bcefe20",
   "metadata": {},
   "outputs": [
    {
     "name": "stdout",
     "output_type": "stream",
     "text": [
      "6001\n",
      "[100271, 250061, 345803, 567983, 890009, 910037, 970019, 990137, 860689, 780079]\n"
     ]
    }
   ],
   "source": [
    "import sys\n",
    "\n",
    "# Agrego la ruta donde está el archivo params.py\n",
    "sys.path.append(\"/home/vickydiliscia/dmeyf2025/src/experimentos/6001\")\n",
    "sys.path.append(\"/home/vickydiliscia/dmeyf2025/src/experimentos/utils\")\n",
    "\n",
    "import params\n",
    "\n",
    "print(params.EXPERIMENT)\n",
    "print(params.SEEDS)\n"
   ]
  },
  {
   "cell_type": "code",
   "execution_count": 10,
   "id": "5bd0dcad-9de7-4c8c-915e-fbd2158eeaaa",
   "metadata": {},
   "outputs": [
    {
     "ename": "AttributeError",
     "evalue": "module 'utils.undersampling' has no attribute 'undersampling'",
     "output_type": "error",
     "traceback": [
      "\u001b[31m---------------------------------------------------------------------------\u001b[39m",
      "\u001b[31mAttributeError\u001b[39m                            Traceback (most recent call last)",
      "\u001b[36mCell\u001b[39m\u001b[36m \u001b[39m\u001b[32mIn[10]\u001b[39m\u001b[32m, line 5\u001b[39m\n\u001b[32m      1\u001b[39m \u001b[38;5;28;01mimport\u001b[39;00m\u001b[38;5;250m \u001b[39m\u001b[34;01msys\u001b[39;00m\n\u001b[32m      2\u001b[39m sys.path.append(\u001b[33m\"\u001b[39m\u001b[33m/home/vickydiliscia/dmeyf2025/src/experimentos\u001b[39m\u001b[33m\"\u001b[39m)\n\u001b[32m----> \u001b[39m\u001b[32m5\u001b[39m \u001b[38;5;28;01mfrom\u001b[39;00m\u001b[38;5;250m \u001b[39m\u001b[34;01mutils\u001b[39;00m\u001b[38;5;250m \u001b[39m\u001b[38;5;28;01mimport\u001b[39;00m *\n",
      "\u001b[36mFile \u001b[39m\u001b[32m~/dmeyf2025/src/experimentos/utils/__init__.py:29\u001b[39m\n\u001b[32m     27\u001b[39m \u001b[38;5;66;03m# Agrega las variables/funciones al espacio global de utils\u001b[39;00m\n\u001b[32m     28\u001b[39m \u001b[38;5;28;01mfor\u001b[39;00m n \u001b[38;5;129;01min\u001b[39;00m public_names:\n\u001b[32m---> \u001b[39m\u001b[32m29\u001b[39m     \u001b[38;5;28mglobals\u001b[39m()[n] = \u001b[38;5;28;43mgetattr\u001b[39;49m\u001b[43m(\u001b[49m\u001b[43mmodule\u001b[49m\u001b[43m,\u001b[49m\u001b[43m \u001b[49m\u001b[43mn\u001b[49m\u001b[43m)\u001b[49m\n\u001b[32m     30\u001b[39m __all__.extend(public_names)\n",
      "\u001b[31mAttributeError\u001b[39m: module 'utils.undersampling' has no attribute 'undersampling'"
     ]
    }
   ],
   "source": [
    "import sys\n",
    "sys.path.append(\"/home/vickydiliscia/dmeyf2025/src/experimentos\")\n",
    "\n",
    "from utils import *"
   ]
  },
  {
   "cell_type": "code",
   "execution_count": null,
   "id": "c1c45432-1680-4dc5-a535-5a81c1f166a4",
   "metadata": {},
   "outputs": [],
   "source": []
  },
  {
   "cell_type": "code",
   "execution_count": null,
   "id": "3656e5f7-6d59-4b7e-865d-41aca38b86ee",
   "metadata": {},
   "outputs": [],
   "source": []
  }
 ],
 "metadata": {
  "kernelspec": {
   "display_name": "Python 3 (ipykernel)",
   "language": "python",
   "name": "python3"
  },
  "language_info": {
   "codemirror_mode": {
    "name": "ipython",
    "version": 3
   },
   "file_extension": ".py",
   "mimetype": "text/x-python",
   "name": "python",
   "nbconvert_exporter": "python",
   "pygments_lexer": "ipython3",
   "version": "3.13.7"
  }
 },
 "nbformat": 4,
 "nbformat_minor": 5
}
