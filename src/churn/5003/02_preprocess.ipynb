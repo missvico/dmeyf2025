{
 "cells": [
  {
   "cell_type": "code",
   "execution_count": 1,
   "id": "615aa3ae-7e78-4c9b-9ac4-f633c4982ab7",
   "metadata": {},
   "outputs": [
    {
     "name": "stderr",
     "output_type": "stream",
     "text": [
      "Sourcing: 01_clase_ternaria.R\n",
      "\n",
      "Sourcing: 02_percentilizar_variables.R\n",
      "\n",
      "Sourcing: 03_agregar_lags_dataset.R\n",
      "\n",
      "Sourcing: 04_entrenar_modelos.R\n",
      "\n",
      "Sourcing: 05_ensamblar_promedio.R\n",
      "\n",
      "Sourcing: 06_realidad_inicializar.R\n",
      "\n",
      "Sourcing: 07_realidad_evaluar.R\n",
      "\n",
      "Sourcing: 08_particionar.R\n",
      "\n",
      "Sourcing: 09_armar_archivo_envios.R\n",
      "\n",
      "Sourcing: 10_enviar_kaggle.R\n",
      "\n",
      "Sourcing: 11_comparar_cortes.R\n",
      "\n",
      "✅ Todos los utils fueron cargados correctamente.\n",
      "\n"
     ]
    }
   ],
   "source": [
    "source(\"/home/vickydiliscia/dmeyf2025/src/churn/5003/config.r\")\n",
    "\n",
    "# Cargo el index (que a su vez definirá la función)\n",
    "source(file.path(PATH_UTILS, \"index.R\"))\n",
    "\n",
    "# Ejecuto la función que carga todos los utils\n",
    "source_utils(PATH_UTILS)"
   ]
  },
  {
   "cell_type": "markdown",
   "id": "ef8db2db-94ee-41e5-ad47-168fde45281e",
   "metadata": {},
   "source": [
    "Carga de librerias"
   ]
  },
  {
   "cell_type": "code",
   "execution_count": 2,
   "id": "4e20bdc1-868d-4312-8919-131cfbf29705",
   "metadata": {},
   "outputs": [
    {
     "name": "stderr",
     "output_type": "stream",
     "text": [
      "Loading required package: parallel\n",
      "\n",
      "Loading required package: R.utils\n",
      "\n",
      "Loading required package: R.oo\n",
      "\n",
      "Loading required package: R.methodsS3\n",
      "\n",
      "R.methodsS3 v1.8.2 (2022-06-13 22:00:14 UTC) successfully loaded. See ?R.methodsS3 for help.\n",
      "\n",
      "R.oo v1.27.1 (2025-05-02 21:00:05 UTC) successfully loaded. See ?R.oo for help.\n",
      "\n",
      "\n",
      "Attaching package: ‘R.oo’\n",
      "\n",
      "\n",
      "The following object is masked from ‘package:R.methodsS3’:\n",
      "\n",
      "    throw\n",
      "\n",
      "\n",
      "The following objects are masked from ‘package:methods’:\n",
      "\n",
      "    getClasses, getMethods\n",
      "\n",
      "\n",
      "The following objects are masked from ‘package:base’:\n",
      "\n",
      "    attach, detach, load, save\n",
      "\n",
      "\n",
      "R.utils v2.13.0 (2025-02-24 21:20:02 UTC) successfully loaded. See ?R.utils for help.\n",
      "\n",
      "\n",
      "Attaching package: ‘R.utils’\n",
      "\n",
      "\n",
      "The following object is masked from ‘package:utils’:\n",
      "\n",
      "    timestamp\n",
      "\n",
      "\n",
      "The following objects are masked from ‘package:base’:\n",
      "\n",
      "    cat, commandArgs, getOption, isOpen, nullfile, parse, use, warnings\n",
      "\n",
      "\n",
      "Loading required package: primes\n",
      "\n",
      "Loading required package: rlist\n",
      "\n",
      "Loading required package: yaml\n",
      "\n",
      "Loading required package: DiceKriging\n",
      "\n",
      "Loading required package: mlrMBO\n",
      "\n",
      "Loading required package: mlr\n",
      "\n",
      "Loading required package: ParamHelpers\n",
      "\n",
      "\n",
      "Attaching package: ‘ParamHelpers’\n",
      "\n",
      "\n",
      "The following object is masked from ‘package:R.utils’:\n",
      "\n",
      "    isVector\n",
      "\n",
      "\n",
      "\n",
      "Attaching package: ‘mlr’\n",
      "\n",
      "\n",
      "The following objects are masked from ‘package:R.utils’:\n",
      "\n",
      "    resample, setThreshold\n",
      "\n",
      "\n",
      "Loading required package: smoof\n",
      "\n",
      "Loading required package: checkmate\n",
      "\n",
      "\n",
      "Attaching package: ‘checkmate’\n",
      "\n",
      "\n",
      "The following object is masked from ‘package:DiceKriging’:\n",
      "\n",
      "    checkNames\n",
      "\n",
      "\n",
      "The following object is masked from ‘package:R.utils’:\n",
      "\n",
      "    asInt\n",
      "\n",
      "\n",
      "\n",
      "Attaching package: ‘smoof’\n",
      "\n",
      "\n",
      "The following objects are masked from ‘package:R.oo’:\n",
      "\n",
      "    getDescription, getName\n",
      "\n",
      "\n"
     ]
    }
   ],
   "source": [
    "# cargo las librerias que necesito\n",
    "require(\"data.table\")\n",
    "require(\"parallel\")\n",
    "\n",
    "if(!require(\"R.utils\")) install.packages(\"R.utils\")\n",
    "require(\"R.utils\")\n",
    "\n",
    "if( !require(\"primes\") ) install.packages(\"primes\")\n",
    "require(\"primes\")\n",
    "\n",
    "if( !require(\"utils\") ) install.packages(\"utils\")\n",
    "require(\"utils\")\n",
    "\n",
    "if( !require(\"rlist\") ) install.packages(\"rlist\")\n",
    "require(\"rlist\")\n",
    "\n",
    "if( !require(\"yaml\")) install.packages(\"yaml\")\n",
    "require(\"yaml\")\n",
    "\n",
    "if( !require(\"lightgbm\") ) install.packages(\"lightgbm\")\n",
    "require(\"lightgbm\")\n",
    "\n",
    "if( !require(\"DiceKriging\") ) install.packages(\"DiceKriging\")\n",
    "require(\"DiceKriging\")\n",
    "\n",
    "if( !require(\"mlrMBO\") ) install.packages(\"mlrMBO\")\n",
    "require(\"mlrMBO\")"
   ]
  },
  {
   "cell_type": "markdown",
   "id": "e7b9768e-696f-4ad6-a8ab-ced1053723c4",
   "metadata": {},
   "source": [
    "Cargo Variables"
   ]
  },
  {
   "cell_type": "code",
   "execution_count": 3,
   "id": "53871622-8978-400b-ad8e-fc044562e7fd",
   "metadata": {},
   "outputs": [],
   "source": [
    "PARAM <- list()\n",
    "PARAM$semilla_primigenia <- SEEDS[1]"
   ]
  },
  {
   "cell_type": "code",
   "execution_count": 4,
   "id": "401ba2de-d27b-4bf0-8c4d-a28e69082800",
   "metadata": {},
   "outputs": [],
   "source": [
    "# training y future\n",
    "PARAM$train <- c(202101,202102,202103,202104)\n",
    "PARAM$train_final <- c(202101,202102)\n",
    "PARAM$future <- c(202104)\n",
    "PARAM$semilla_kaggle <- 314159\n",
    "PARAM$cortes <- seq(6000, 19000, by= 500)"
   ]
  },
  {
   "cell_type": "code",
   "execution_count": 5,
   "id": "97217cda-bd1a-49db-8530-935deb8d6591",
   "metadata": {},
   "outputs": [],
   "source": [
    "# un undersampling de 0.1  toma solo el 10% de los CONTINUA\n",
    "# undersampling de 1.0  implica tomar TODOS los datos\n",
    "\n",
    "PARAM$trainingstrategy$undersampling <- 0.1"
   ]
  },
  {
   "cell_type": "code",
   "execution_count": 6,
   "id": "1caf7b66-2c0e-4bf2-b11a-4349a1f5552e",
   "metadata": {},
   "outputs": [],
   "source": [
    "# Parametros LightGBM\n",
    "\n",
    "PARAM$hyperparametertuning$xval_folds <- 5\n",
    "\n",
    "# parametros fijos del LightGBM que se pisaran con la parte variable de la BO\n",
    "PARAM$lgbm$param_fijos <-  list(\n",
    "  boosting= \"gbdt\", # puede ir  dart  , ni pruebe random_forest\n",
    "  objective= \"binary\",\n",
    "  metric= \"auc\",\n",
    "  first_metric_only= FALSE,\n",
    "  boost_from_average= TRUE,\n",
    "  feature_pre_filter= FALSE,\n",
    "  force_row_wise= TRUE, # para reducir warnings\n",
    "  verbosity= -100,\n",
    "\n",
    "  seed= PARAM$semilla_primigenia,\n",
    "\n",
    "  max_depth= -1L, # -1 significa no limitar,  por ahora lo dejo fijo\n",
    "  min_gain_to_split= 0, # min_gain_to_split >= 0\n",
    "  min_sum_hessian_in_leaf= 0.001, #  min_sum_hessian_in_leaf >= 0.0\n",
    "  lambda_l1= 0.0, # lambda_l1 >= 0.0\n",
    "  lambda_l2= 0.0, # lambda_l2 >= 0.0\n",
    "  max_bin= 31L, # lo debo dejar fijo, no participa de la BO\n",
    "\n",
    "  bagging_fraction= 1.0, # 0.0 < bagging_fraction <= 1.0\n",
    "  pos_bagging_fraction= 1.0, # 0.0 < pos_bagging_fraction <= 1.0\n",
    "  neg_bagging_fraction= 1.0, # 0.0 < neg_bagging_fraction <= 1.0\n",
    "  is_unbalance= FALSE, #\n",
    "  scale_pos_weight= 1.0, # scale_pos_weight > 0.0\n",
    "\n",
    "  drop_rate= 0.1, # 0.0 < neg_bagging_fraction <= 1.0\n",
    "  max_drop= 50, # <=0 means no limit\n",
    "  skip_drop= 0.5, # 0.0 <= skip_drop <= 1.0\n",
    "\n",
    "  extra_trees= FALSE,\n",
    "\n",
    "  num_iterations= 1200,\n",
    "  learning_rate= 0.02,\n",
    "  feature_fraction= 0.5,\n",
    "  num_leaves= 750,\n",
    "  min_data_in_leaf= 5000\n",
    ")\n"
   ]
  },
  {
   "cell_type": "markdown",
   "id": "42db3ebb-3e2f-4380-8c99-8b3c341ad1fe",
   "metadata": {},
   "source": [
    "Parametros a optimizar"
   ]
  },
  {
   "cell_type": "code",
   "execution_count": 7,
   "id": "268da04e-e6af-4c5b-a5bf-69d06a71aa24",
   "metadata": {},
   "outputs": [],
   "source": [
    "# Aqui se cargan los bordes de los hiperparametros de la BO\n",
    "PARAM$hyperparametertuning$hs <- makeParamSet(\n",
    "  makeIntegerParam(\"num_iterations\", lower= 8L, upper= 2048L),\n",
    "  makeNumericParam(\"learning_rate\", lower= 0.01, upper= 0.3),\n",
    "  makeNumericParam(\"feature_fraction\", lower= 0.1, upper= 1.0),\n",
    "  makeIntegerParam(\"num_leaves\", lower= 8L, upper= 2048L),\n",
    "  makeIntegerParam(\"min_data_in_leaf\", lower= 1L, upper= 8000L)\n",
    ")"
   ]
  },
  {
   "cell_type": "code",
   "execution_count": 8,
   "id": "5a4dba30-cdbe-40dc-a456-8db93245541a",
   "metadata": {},
   "outputs": [],
   "source": [
    "PARAM$hyperparametertuning$iteraciones <- 100 # iteraciones bayesianas"
   ]
  },
  {
   "cell_type": "markdown",
   "id": "edd831c1-af3f-4e9a-a9ca-bda2361553b1",
   "metadata": {},
   "source": [
    "Medir la ganancia"
   ]
  },
  {
   "cell_type": "code",
   "execution_count": 9,
   "id": "a8a2a968-83a3-46c3-ada5-5faf39633305",
   "metadata": {},
   "outputs": [],
   "source": [
    "# iniciliazo el dataset de realidad, para medir ganancia\n",
    "realidad_inicializar <- function( pfuture, pparam) {\n",
    "\n",
    "  # datos para verificar la ganancia\n",
    "  drealidad <- pfuture[, list(numero_de_cliente, foto_mes, clase_ternaria)]\n",
    "\n",
    "  particionar(drealidad,\n",
    "    division= c(3, 7),\n",
    "    agrupa= \"clase_ternaria\",\n",
    "    seed= PARAM$semilla_kaggle\n",
    "  )\n",
    "\n",
    "  return( drealidad )\n",
    "}"
   ]
  },
  {
   "cell_type": "code",
   "execution_count": 10,
   "id": "e77cce8d-231f-4492-85de-6e0ca05bbeb3",
   "metadata": {},
   "outputs": [],
   "source": [
    "# evaluo ganancia en los datos de la realidad\n",
    "\n",
    "realidad_evaluar <- function( prealidad, pprediccion) {\n",
    "\n",
    "  prealidad[ pprediccion,\n",
    "    on= c(\"numero_de_cliente\", \"foto_mes\"),\n",
    "    predicted:= i.Predicted\n",
    "  ]\n",
    "\n",
    "  tbl <- prealidad[, list(\"qty\"=.N), list(fold, predicted, clase_ternaria)]\n",
    "\n",
    "  res <- list()\n",
    "  res$public  <- tbl[fold==1 & predicted==1L, sum(qty*ifelse(clase_ternaria==\"BAJA+2\", 780000, -20000))]/0.3\n",
    "  res$private <- tbl[fold==2 & predicted==1L, sum(qty*ifelse(clase_ternaria==\"BAJA+2\", 780000, -20000))]/0.7\n",
    "  res$total <- tbl[predicted==1L, sum(qty*ifelse(clase_ternaria==\"BAJA+2\", 780000, -20000))]\n",
    "\n",
    "  prealidad[, predicted:=NULL]\n",
    "  return( res )\n",
    "}"
   ]
  },
  {
   "cell_type": "markdown",
   "id": "7e3b1949-f5e9-4efc-86b1-4e2b90fb63d6",
   "metadata": {},
   "source": [
    "Optimizacion"
   ]
  },
  {
   "cell_type": "code",
   "execution_count": 11,
   "id": "232118e3-3f42-4f5e-bd45-5a2df199953a",
   "metadata": {},
   "outputs": [],
   "source": [
    "setwd(PATH_EXPERIMENTS)\n",
    "dir.create(EXPERIMENT_FOLDER, showWarnings=FALSE)\n",
    "\n",
    "setwd(PATH_THIS_EXPERIMENT)\n",
    "optimization_folder <- \"optimization\"\n",
    "dir.create(optimization_folder, showWarnings=FALSE)\n",
    "\n",
    "setwd(PATH_BO)\n"
   ]
  },
  {
   "cell_type": "code",
   "execution_count": 12,
   "id": "9d764c9b-49c7-43e8-a925-bb8a6b89cd51",
   "metadata": {},
   "outputs": [
    {
     "data": {
      "text/html": [
       "'/home/vickydiliscia/buckets/b1/exp/EXP5002/optimization'"
      ],
      "text/latex": [
       "'/home/vickydiliscia/buckets/b1/exp/EXP5002/optimization'"
      ],
      "text/markdown": [
       "'/home/vickydiliscia/buckets/b1/exp/EXP5002/optimization'"
      ],
      "text/plain": [
       "[1] \"/home/vickydiliscia/buckets/b1/exp/EXP5002/optimization\""
      ]
     },
     "metadata": {},
     "output_type": "display_data"
    }
   ],
   "source": [
    "getwd()"
   ]
  },
  {
   "cell_type": "code",
   "execution_count": 13,
   "id": "5e2d0f3c-3da0-48cb-ae4d-eb860951ff7f",
   "metadata": {},
   "outputs": [],
   "source": [
    "# lectura del dataset\n",
    "dataset <- fread(DATASET_FEATURES, stringsAsFactors= TRUE)"
   ]
  },
  {
   "cell_type": "code",
   "execution_count": 14,
   "id": "a40c68af-d4ab-4d3c-a605-8588a758c490",
   "metadata": {},
   "outputs": [],
   "source": [
    "dataset_train <- dataset[foto_mes %in% PARAM$train]"
   ]
  },
  {
   "cell_type": "code",
   "execution_count": 15,
   "id": "51f29d66-b711-42a4-b58f-eed066393c0c",
   "metadata": {},
   "outputs": [
    {
     "data": {
      "text/html": [
       "<table class=\"dataframe\">\n",
       "<caption>A data.table: 12 × 3</caption>\n",
       "<thead>\n",
       "\t<tr><th scope=col>foto_mes</th><th scope=col>clase_ternaria</th><th scope=col>N</th></tr>\n",
       "\t<tr><th scope=col>&lt;int&gt;</th><th scope=col>&lt;fct&gt;</th><th scope=col>&lt;int&gt;</th></tr>\n",
       "</thead>\n",
       "<tbody>\n",
       "\t<tr><td>202101</td><td>CONTINUA</td><td>160080</td></tr>\n",
       "\t<tr><td>202102</td><td>CONTINUA</td><td>160292</td></tr>\n",
       "\t<tr><td>202103</td><td>CONTINUA</td><td>161119</td></tr>\n",
       "\t<tr><td>202104</td><td>CONTINUA</td><td>161333</td></tr>\n",
       "\t<tr><td>202101</td><td>BAJA+2  </td><td>   825</td></tr>\n",
       "\t<tr><td>202102</td><td>BAJA+1  </td><td>   831</td></tr>\n",
       "\t<tr><td>202103</td><td>BAJA+2  </td><td>   951</td></tr>\n",
       "\t<tr><td>202104</td><td>BAJA+1  </td><td>   955</td></tr>\n",
       "\t<tr><td>202102</td><td>BAJA+2  </td><td>  1032</td></tr>\n",
       "\t<tr><td>202103</td><td>BAJA+1  </td><td>  1039</td></tr>\n",
       "\t<tr><td>202104</td><td>BAJA+2  </td><td>  1130</td></tr>\n",
       "\t<tr><td>202101</td><td>BAJA+1  </td><td>   622</td></tr>\n",
       "</tbody>\n",
       "</table>\n"
      ],
      "text/latex": [
       "A data.table: 12 × 3\n",
       "\\begin{tabular}{lll}\n",
       " foto\\_mes & clase\\_ternaria & N\\\\\n",
       " <int> & <fct> & <int>\\\\\n",
       "\\hline\n",
       "\t 202101 & CONTINUA & 160080\\\\\n",
       "\t 202102 & CONTINUA & 160292\\\\\n",
       "\t 202103 & CONTINUA & 161119\\\\\n",
       "\t 202104 & CONTINUA & 161333\\\\\n",
       "\t 202101 & BAJA+2   &    825\\\\\n",
       "\t 202102 & BAJA+1   &    831\\\\\n",
       "\t 202103 & BAJA+2   &    951\\\\\n",
       "\t 202104 & BAJA+1   &    955\\\\\n",
       "\t 202102 & BAJA+2   &   1032\\\\\n",
       "\t 202103 & BAJA+1   &   1039\\\\\n",
       "\t 202104 & BAJA+2   &   1130\\\\\n",
       "\t 202101 & BAJA+1   &    622\\\\\n",
       "\\end{tabular}\n"
      ],
      "text/markdown": [
       "\n",
       "A data.table: 12 × 3\n",
       "\n",
       "| foto_mes &lt;int&gt; | clase_ternaria &lt;fct&gt; | N &lt;int&gt; |\n",
       "|---|---|---|\n",
       "| 202101 | CONTINUA | 160080 |\n",
       "| 202102 | CONTINUA | 160292 |\n",
       "| 202103 | CONTINUA | 161119 |\n",
       "| 202104 | CONTINUA | 161333 |\n",
       "| 202101 | BAJA+2   |    825 |\n",
       "| 202102 | BAJA+1   |    831 |\n",
       "| 202103 | BAJA+2   |    951 |\n",
       "| 202104 | BAJA+1   |    955 |\n",
       "| 202102 | BAJA+2   |   1032 |\n",
       "| 202103 | BAJA+1   |   1039 |\n",
       "| 202104 | BAJA+2   |   1130 |\n",
       "| 202101 | BAJA+1   |    622 |\n",
       "\n"
      ],
      "text/plain": [
       "   foto_mes clase_ternaria N     \n",
       "1  202101   CONTINUA       160080\n",
       "2  202102   CONTINUA       160292\n",
       "3  202103   CONTINUA       161119\n",
       "4  202104   CONTINUA       161333\n",
       "5  202101   BAJA+2            825\n",
       "6  202102   BAJA+1            831\n",
       "7  202103   BAJA+2            951\n",
       "8  202104   BAJA+1            955\n",
       "9  202102   BAJA+2           1032\n",
       "10 202103   BAJA+1           1039\n",
       "11 202104   BAJA+2           1130\n",
       "12 202101   BAJA+1            622"
      ]
     },
     "metadata": {},
     "output_type": "display_data"
    }
   ],
   "source": [
    "# Resumen clase_ternaria\n",
    "setorder( dataset, foto_mes, clase_ternaria, numero_de_cliente)\n",
    "dataset_train[, .N, list(foto_mes, clase_ternaria)]"
   ]
  },
  {
   "cell_type": "code",
   "execution_count": 16,
   "id": "ba3dda77-d905-47ff-ac31-a7638bbf59cf",
   "metadata": {},
   "outputs": [],
   "source": [
    "# paso la clase a binaria que tome valores {0,1}  enteros\n",
    "#  BAJA+1 y BAJA+2  son  1,   CONTINUA es 0\n",
    "#  a partir de ahora ya NO puedo cortar  por prob(BAJA+2) > 1/40\n",
    "\n",
    "dataset_train[,\n",
    "  clase01 := ifelse(clase_ternaria %in% c(\"BAJA+2\",\"BAJA+1\"), 1L, 0L)\n",
    "]"
   ]
  },
  {
   "cell_type": "code",
   "execution_count": 17,
   "id": "777fc482-c32f-460e-aea6-265ca2c19072",
   "metadata": {},
   "outputs": [],
   "source": [
    "# defino los datos que forma parte del training\n",
    "# aqui se hace el undersampling de los CONTINUA\n",
    "# notar que para esto utilizo la SEGUNDA semilla\n",
    "\n",
    "set.seed(PARAM$semilla_primigenia, kind = \"L'Ecuyer-CMRG\")\n",
    "dataset_train[, azar := runif(nrow(dataset_train))]\n",
    "dataset_train[, training := 0L]\n",
    "\n",
    "dataset_train[\n",
    "  foto_mes %in%  PARAM$train &\n",
    "    (azar <= PARAM$trainingstrategy$undersampling | clase_ternaria %in% c(\"BAJA+1\", \"BAJA+2\")),\n",
    "  training := 1L\n",
    "]"
   ]
  },
  {
   "cell_type": "code",
   "execution_count": 18,
   "id": "28e94ca8-6903-4f5f-9798-15ddf7cdb48b",
   "metadata": {},
   "outputs": [],
   "source": [
    "# los campos que se van a utilizar\n",
    "\n",
    "campos_buenos <- setdiff(\n",
    "  colnames(dataset_train),\n",
    "  c(\"clase_ternaria\", \"clase01\", \"azar\", \"training\")\n",
    ")"
   ]
  },
  {
   "cell_type": "code",
   "execution_count": null,
   "id": "4fb1b0e3-c817-43fd-b75f-1545f8a15194",
   "metadata": {},
   "outputs": [],
   "source": [
    "# dejo los datos en el formato que necesita LightGBM\n",
    "\n",
    "dtrain <- lgb.Dataset(\n",
    "  data= data.matrix(dataset_train[training == 1L, campos_buenos, with= FALSE]),\n",
    "  label= dataset_train[training == 1L, clase01],\n",
    "  free_raw_data= FALSE\n",
    ")\n",
    "\n",
    "nrow(dtrain)\n",
    "ncol(dtrain)"
   ]
  },
  {
   "cell_type": "markdown",
   "id": "0f92e601-0c5a-436d-a1e3-c1f4fdcd1669",
   "metadata": {},
   "source": [
    "Configuracion Bayesian Optimization"
   ]
  },
  {
   "cell_type": "code",
   "execution_count": null,
   "id": "39aa0db6-04fb-414b-bf67-f885046411e1",
   "metadata": {},
   "outputs": [],
   "source": [
    "# En el argumento x llegan los parmaetros de la bayesiana\n",
    "#  devuelve la AUC en cross validation del modelo entrenado\n",
    "\n",
    "EstimarGanancia_AUC_lightgbm <- function(x) {\n",
    "\n",
    "  # x pisa (o agrega) a param_fijos\n",
    "  param_completo <- modifyList(PARAM$lgbm$param_fijos, x)\n",
    "\n",
    "  # entreno LightGBM\n",
    "  modelocv <- lgb.cv(\n",
    "    data= dtrain,\n",
    "    nfold= PARAM$hyperparametertuning$xval_folds,\n",
    "    stratified= TRUE,\n",
    "    param= param_completo\n",
    "  )\n",
    "\n",
    "  # obtengo la ganancia\n",
    "  AUC <- modelocv$best_score\n",
    "\n",
    "  # hago espacio en la memoria\n",
    "  rm(modelocv)\n",
    "  gc(full= TRUE, verbose= FALSE)\n",
    "\n",
    "  message(format(Sys.time(), \"%a %b %d %X %Y\"), \" AUC \", AUC)\n",
    "\n",
    "  return(AUC)\n",
    "}"
   ]
  },
  {
   "cell_type": "code",
   "execution_count": null,
   "id": "56991c0e-bfac-4949-852a-cfad203469a8",
   "metadata": {},
   "outputs": [],
   "source": [
    "# Aqui comienza la configuracion de la Bayesian Optimization\n",
    "\n",
    "# en este archivo quedan la evolucion binaria de la BO\n",
    "kbayesiana <- \"bayesiana.RDATA\"\n",
    "\n",
    "funcion_optimizar <- EstimarGanancia_AUC_lightgbm # la funcion que voy a maximizar\n",
    "\n",
    "configureMlr(show.learner.output= FALSE)\n",
    "\n",
    "# configuro la busqueda bayesiana,  los hiperparametros que se van a optimizar\n",
    "# por favor, no desesperarse por lo complejo\n",
    "\n",
    "obj.fun <- makeSingleObjectiveFunction(\n",
    "  fn= funcion_optimizar, # la funcion que voy a maximizar\n",
    "  minimize= FALSE, # estoy Maximizando la ganancia\n",
    "  noisy= TRUE,\n",
    "  par.set= PARAM$hyperparametertuning$hs, # definido al comienzo del programa\n",
    "  has.simple.signature= FALSE # paso los parametros en una lista\n",
    ")\n",
    "\n",
    "# cada 600 segundos guardo el resultado intermedio\n",
    "ctrl <- makeMBOControl(\n",
    "  save.on.disk.at.time= 600, # se graba cada 600 segundos\n",
    "  save.file.path= kbayesiana\n",
    ") # se graba cada 600 segundos\n",
    "\n",
    "# indico la cantidad de iteraciones que va a tener la Bayesian Optimization\n",
    "ctrl <- setMBOControlTermination(\n",
    "  ctrl,\n",
    "  iters= PARAM$hyperparametertuning$iteraciones\n",
    ") # cantidad de iteraciones\n",
    "\n",
    "# defino el método estandar para la creacion de los puntos iniciales,\n",
    "# los \"No Inteligentes\"\n",
    "ctrl <- setMBOControlInfill(ctrl, crit= makeMBOInfillCritEI())\n",
    "\n",
    "# establezco la funcion que busca el maximo\n",
    "surr.km <- makeLearner(\n",
    "  \"regr.km\",\n",
    "  predict.type= \"se\",\n",
    "  covtype= \"matern3_2\",\n",
    "  control= list(trace= TRUE)\n",
    ")\n"
   ]
  },
  {
   "cell_type": "markdown",
   "id": "730bc335-b026-4c21-980e-c744d86c8bc7",
   "metadata": {},
   "source": [
    "Correr optimizacion"
   ]
  },
  {
   "cell_type": "code",
   "execution_count": null,
   "id": "d1b81cd0-7b71-4aa9-b9b7-1d71765f875b",
   "metadata": {},
   "outputs": [],
   "source": [
    "# inicio la optimizacion bayesiana, retomando si ya existe\n",
    "# es la celda mas lenta de todo el notebook\n",
    "\n",
    "if (!file.exists(kbayesiana)) {\n",
    "  bayesiana_salida <- mbo(obj.fun, learner= surr.km, control= ctrl)\n",
    "} else {\n",
    "  bayesiana_salida <- mboContinue(kbayesiana) # retomo en caso que ya exista\n",
    "}"
   ]
  }
 ],
 "metadata": {
  "kernelspec": {
   "display_name": "R",
   "language": "R",
   "name": "ir"
  },
  "language_info": {
   "codemirror_mode": "r",
   "file_extension": ".r",
   "mimetype": "text/x-r-source",
   "name": "R",
   "pygments_lexer": "r",
   "version": "4.5.1"
  }
 },
 "nbformat": 4,
 "nbformat_minor": 5
}
