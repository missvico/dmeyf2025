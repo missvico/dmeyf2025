{
 "cells": [
  {
   "cell_type": "markdown",
   "id": "eb862942-765b-4fe8-8980-adf84cec32a7",
   "metadata": {},
   "source": [
    "# Setup"
   ]
  },
  {
   "cell_type": "code",
   "execution_count": null,
   "id": "0acf60f0-c680-47b0-a90e-527e3052d7bf",
   "metadata": {},
   "outputs": [],
   "source": [
    "source(\"/home/vickydiliscia/dmeyf2025/src/churn/5002/config.r\")"
   ]
  },
  {
   "cell_type": "code",
   "execution_count": null,
   "id": "5a641691-7938-4605-a768-71588a084941",
   "metadata": {},
   "outputs": [],
   "source": [
    "# Cargo el index (que a su vez definirá la función)\n",
    "source(file.path(PATH_UTILS, \"index.R\"))\n",
    "\n",
    "# Ejecuto la función que carga todos los utils\n",
    "source_utils(PATH_UTILS)"
   ]
  },
  {
   "cell_type": "markdown",
   "id": "207aa698-b7b8-434a-8c15-e2f4de61f10b",
   "metadata": {},
   "source": [
    "## Parametros Experimento"
   ]
  },
  {
   "cell_type": "code",
   "execution_count": null,
   "id": "f0c8ed00-4931-4aa5-a3b7-67489849c65e",
   "metadata": {},
   "outputs": [],
   "source": [
    "## Semillas\n",
    "PARAM <- list()\n",
    "PARAM$semilla_primigenia <- SEEDS[1]\n",
    "\n",
    "# training y future\n",
    "PARAM$train <- c(202102)\n",
    "PARAM$train_final <- c(202101,202102,202103,202104)\n",
    "PARAM$future <- c(202104)\n",
    "PARAM$future_final <- c(202106)\n",
    "PARAM$semilla_kaggle <- 314159\n",
    "PARAM$cortes <- seq(6000, 19000, by= 500)\n",
    "\n",
    "# undersampling\n",
    "PARAM$trainingstrategy$undersampling <- 0.1\n",
    "\n",
    "# carpeta de trabajo\n",
    "setwd(PATH_THIS_EXPERIMENT)"
   ]
  },
  {
   "cell_type": "markdown",
   "id": "a9633410-bf9b-4ebc-8750-2c769694cc7c",
   "metadata": {},
   "source": [
    "## Parametros LGBM"
   ]
  },
  {
   "cell_type": "code",
   "execution_count": 3,
   "id": "435855e9-ccfa-43a4-92b9-13123748b18d",
   "metadata": {},
   "outputs": [
    {
     "ename": "ERROR",
     "evalue": "Error: object 'PARAM' not found\n",
     "output_type": "error",
     "traceback": [
      "Error: object 'PARAM' not found\nTraceback:\n"
     ]
    }
   ],
   "source": [
    "PARAM$hyperparametertuning$xval_folds <- 5\n",
    "\n",
    "# parametros fijos del LightGBM que se pisaran con la parte variable de la BO\n",
    "PARAM$lgbm$param_fijos <-  list(\n",
    "  boosting= \"gbdt\", # puede ir  dart  , ni pruebe random_forest\n",
    "  objective= \"binary\",\n",
    "  metric= \"auc\",\n",
    "  first_metric_only= FALSE,\n",
    "  boost_from_average= TRUE,\n",
    "  feature_pre_filter= FALSE,\n",
    "  force_row_wise= TRUE, # para reducir warnings\n",
    "  verbosity= -100,\n",
    "\n",
    "  seed= PARAM$semilla_primigenia,\n",
    "\n",
    "  max_depth= -1L, # -1 significa no limitar,  por ahora lo dejo fijo\n",
    "  min_gain_to_split= 0, # min_gain_to_split >= 0\n",
    "  min_sum_hessian_in_leaf= 0.001, #  min_sum_hessian_in_leaf >= 0.0\n",
    "  lambda_l1= 0.0, # lambda_l1 >= 0.0\n",
    "  lambda_l2= 0.0, # lambda_l2 >= 0.0\n",
    "  max_bin= 31L, # lo debo dejar fijo, no participa de la BO\n",
    "\n",
    "  bagging_fraction= 1.0, # 0.0 < bagging_fraction <= 1.0\n",
    "  pos_bagging_fraction= 1.0, # 0.0 < pos_bagging_fraction <= 1.0\n",
    "  neg_bagging_fraction= 1.0, # 0.0 < neg_bagging_fraction <= 1.0\n",
    "  is_unbalance= FALSE, #\n",
    "  scale_pos_weight= 1.0, # scale_pos_weight > 0.0\n",
    "\n",
    "  drop_rate= 0.1, # 0.0 < neg_bagging_fraction <= 1.0\n",
    "  max_drop= 50, # <=0 means no limit\n",
    "  skip_drop= 0.5, # 0.0 <= skip_drop <= 1.0\n",
    "\n",
    "  extra_trees= FALSE,\n",
    "\n",
    "  num_iterations= 1200,\n",
    "  learning_rate= 0.02,\n",
    "  feature_fraction= 0.5,\n",
    "  num_leaves= 750,\n",
    "  min_data_in_leaf= 5000\n",
    ")"
   ]
  },
  {
   "cell_type": "markdown",
   "id": "b52e8dbe-f80c-4551-b48e-d184100d8a9f",
   "metadata": {},
   "source": [
    "## librerias"
   ]
  },
  {
   "cell_type": "code",
   "execution_count": null,
   "id": "dd6a458c-11eb-4b86-846f-3d06d3baffaf",
   "metadata": {},
   "outputs": [],
   "source": [
    "# cargo las librerias que necesito\n",
    "require(\"data.table\")\n",
    "require(\"parallel\")\n",
    "\n",
    "if(!require(\"R.utils\")) install.packages(\"R.utils\")\n",
    "require(\"R.utils\")\n",
    "\n",
    "if( !require(\"primes\") ) install.packages(\"primes\")\n",
    "require(\"primes\")\n",
    "\n",
    "if( !require(\"utils\") ) install.packages(\"utils\")\n",
    "require(\"utils\")\n",
    "\n",
    "if( !require(\"rlist\") ) install.packages(\"rlist\")\n",
    "require(\"rlist\")\n",
    "\n",
    "if( !require(\"yaml\")) install.packages(\"yaml\")\n",
    "require(\"yaml\")\n",
    "\n",
    "if( !require(\"lightgbm\") ) install.packages(\"lightgbm\")\n",
    "require(\"lightgbm\")\n",
    "\n",
    "if( !require(\"DiceKriging\") ) install.packages(\"DiceKriging\")\n",
    "require(\"DiceKriging\")\n",
    "\n",
    "if( !require(\"mlrMBO\") ) install.packages(\"mlrMBO\")\n",
    "require(\"mlrMBO\")"
   ]
  },
  {
   "cell_type": "markdown",
   "id": "7c374448-c4bd-43e8-8148-a2f3cececc3b",
   "metadata": {},
   "source": [
    "## Dataset"
   ]
  },
  {
   "cell_type": "code",
   "execution_count": null,
   "id": "9320631f-8782-42d5-937c-db6d48a34502",
   "metadata": {},
   "outputs": [],
   "source": [
    "# lectura del dataset\n",
    "dataset <- fread(DATASET_FEATURES, stringsAsFactors= TRUE)"
   ]
  },
  {
   "cell_type": "code",
   "execution_count": null,
   "id": "b1d7c931-626b-4b17-a8fd-2d93962de769",
   "metadata": {},
   "outputs": [],
   "source": [
    "# clase01 - me daba error con los max_bin\n",
    "dataset[, clase01 := ifelse(clase_ternaria %in% c(\"BAJA+1\", \"BAJA+2\"), 1L, 0L)]\n",
    "\n",
    "dataset_train <- dataset[foto_mes %in% PARAM$train_final]\n",
    "dataset_train[,.N,clase_ternaria]\n",
    "\n",
    "campos_buenos <- setdiff(\n",
    "  colnames(dataset_train),\n",
    "  c(\"clase_ternaria\", \"clase01\", \"azar\", \"training\")\n",
    ")"
   ]
  },
  {
   "cell_type": "markdown",
   "id": "df48c611-df62-459e-9aa6-f07a52dab3e3",
   "metadata": {},
   "source": [
    "# Hiperparametros"
   ]
  },
  {
   "cell_type": "code",
   "execution_count": null,
   "id": "0a6254e5-05bf-479b-abb0-70bd74ae2fa1",
   "metadata": {},
   "outputs": [],
   "source": [
    "setwd(PATH_BO)"
   ]
  },
  {
   "cell_type": "code",
   "execution_count": null,
   "id": "8f223f5e-32ed-4c12-bd91-d4092b32d10f",
   "metadata": {},
   "outputs": [],
   "source": [
    "kbayesiana <- \"bayesiana.RDATA\"  # tu archivo con el opt.state adentro\n",
    "# Cargar el archivo (esto mete en memoria los objetos guardados, p. ej. opt.state)\n",
    "load(kbayesiana)\n",
    "\n",
    "# Si el archivo contiene el estado de la optimización:\n",
    "bayesiana_salida <- list(opt.path = opt.state$opt.path)\n",
    "                         \n",
    "tb_bayesiana <- as.data.table(bayesiana_salida$opt.path)\n",
    "colnames( tb_bayesiana)\n",
    "\n",
    "# almaceno los resultados de la Bayesian Optimization\n",
    "# y capturo los mejores hiperparametros encontrados\n",
    "\n",
    "tb_bayesiana <- as.data.table(bayesiana_salida$opt.path)\n",
    "\n",
    "tb_bayesiana[, iter := .I]\n",
    "\n",
    "# ordeno en forma descendente por AUC = y\n",
    "setorder(tb_bayesiana, -y)\n",
    "\n",
    "# grabo para eventualmente poder utilizarlos en OTRA corrida\n",
    "fwrite( tb_bayesiana,\n",
    "  file= \"BO_log.txt\",\n",
    "  sep= \"\\t\"\n",
    ")\n",
    "\n",
    "# los mejores hiperparámetros son los que quedaron en el registro 1 de la tabla\n",
    "PARAM$out$lgbm$mejores_hiperparametros <- tb_bayesiana[\n",
    "  1, # el primero es el de mejor AUC\n",
    "  setdiff(colnames(tb_bayesiana),\n",
    "    c(\"y\",\"dob\",\"eol\",\"error.message\",\"exec.time\",\"ei\",\"error.model\",\n",
    "      \"train.time\",\"prop.type\",\"propose.time\",\"se\",\"mean\",\"iter\")),\n",
    "  with= FALSE\n",
    "]\n",
    "\n",
    "PARAM$out$lgbm$y <- tb_bayesiana[1, y]\n",
    "\n",
    "write_yaml( PARAM, file=\"PARAM.yml\")\n",
    "\n",
    "print(PARAM$out$lgbm$mejores_hiperparametros)\n",
    "print(PARAM$out$lgbm$y)"
   ]
  },
  {
   "cell_type": "markdown",
   "id": "888c5882-1436-44e5-805e-ca7245a18de1",
   "metadata": {},
   "source": [
    "## Ensamble"
   ]
  },
  {
   "cell_type": "code",
   "execution_count": null,
   "id": "91a74a9e-b8a9-417b-8346-f624117a593d",
   "metadata": {},
   "outputs": [],
   "source": [
    "setwd(PATH_MODELS)"
   ]
  },
  {
   "cell_type": "code",
   "execution_count": null,
   "id": "5629c3b0-e453-488a-ae33-1e4e4d34b9dc",
   "metadata": {},
   "outputs": [],
   "source": [
    "model_paths <- list.files(pattern = paste0(\"^modelo_\", TAG, \"_seed.*\\\\.txt$\"))\n",
    "modelos <- lapply(model_paths, lgb.load)"
   ]
  },
  {
   "cell_type": "code",
   "execution_count": null,
   "id": "2c2f4453-cf91-4cda-a50c-ac1091a221da",
   "metadata": {},
   "outputs": [],
   "source": [
    "setwd(PATH_THIS_EXPERIMENT)\n",
    "prediction <- \"prediction\"\n",
    "dir.create(prediction, showWarnings= FALSE)\n",
    "setwd(PATH_PREDICTION)"
   ]
  },
  {
   "cell_type": "code",
   "execution_count": null,
   "id": "4debe69d-11f7-4777-b84f-b32bd4bbfd14",
   "metadata": {},
   "outputs": [],
   "source": [
    "ensamblar_promedio (\n",
    "  dataset       = dataset,\n",
    "  PARAM         = PARAM,\n",
    "  campos_buenos = campos_buenos,\n",
    "  experimento   = TAG,\n",
    "  models_dir    = PATH_MODELS,\n",
    "  pattern       = paste0(\"^modelo_\", TAG, \"_seed.*\\\\.txt$\")\n",
    ")\n"
   ]
  },
  {
   "cell_type": "markdown",
   "id": "d1270bac-04a6-487d-93d9-3278aa2d46c2",
   "metadata": {},
   "source": [
    "# Envios a Kaggle"
   ]
  },
  {
   "cell_type": "code",
   "execution_count": null,
   "id": "aba1641d-d8d0-4e9d-ac24-2ef07c757e81",
   "metadata": {},
   "outputs": [],
   "source": [
    "# Leer archvio predicciones\n",
    "setwd(PATH_PREDICTION)\n",
    "pred_file <- paste0(\"prediccion_\",TAG, \".txt\")\n",
    "\n",
    "# Verificá que exista\n",
    "stopifnot(file.exists(pred_file))\n",
    "\n",
    "tb_prediccion <- fread(pred_file, sep = \"\\t\")"
   ]
  },
  {
   "cell_type": "code",
   "execution_count": null,
   "id": "a2de95d4-499f-4398-b577-1c2287dbd448",
   "metadata": {},
   "outputs": [],
   "source": [
    "setwd(PATH_THIS_EXPERIMENT)\n",
    "kaggle <- \"kaggle\"\n",
    "dir.create(kaggle, showWarnings= FALSE)"
   ]
  },
  {
   "cell_type": "code",
   "execution_count": null,
   "id": "bb7ff8e9-38c8-4ece-9d02-3f84c1108345",
   "metadata": {},
   "outputs": [],
   "source": [
    "res <- lapply(PARAM$cortes, function(corte) {\n",
    "  armar_archivo_envios(\n",
    "    pred         = tb_prediccion,\n",
    "    corte        = corte,\n",
    "    experimento  = TAG,  \n",
    "    out_dir      = \"kaggle\",\n",
    "    id_col       = \"numero_de_cliente\",\n",
    "    prob_col     = \"prob\",\n",
    "    sep_in       = \"\\t\"\n",
    "  )\n",
    "})"
   ]
  },
  {
   "cell_type": "code",
   "execution_count": null,
   "id": "089dfd27-b1ec-4d0a-85be-5fe4e7a0b573",
   "metadata": {},
   "outputs": [],
   "source": [
    "comp_name <- \"dm-ey-f-2025-primera\"  # p.ej.: \"meic-dmeyf-2025\"\n",
    "cortes <- PARAM$cortes\n",
    "\n",
    "# Loop para enviar cada uno\n",
    "for (c in cortes) {\n",
    "  enviar_archivo(\n",
    "    pred         = tb_prediccion,  # o tu data.table con las probs\n",
    "    corte        = c,\n",
    "    experimento  = TAG,\n",
    "    competition  = comp_name,    # slug exacto de Kaggle\n",
    "    message_submit = sprintf(\"Exp=exp_lags1 | Corte=%d\", c)\n",
    "  )\n",
    "}"
   ]
  }
 ],
 "metadata": {
  "kernelspec": {
   "display_name": "R",
   "language": "R",
   "name": "ir"
  },
  "language_info": {
   "codemirror_mode": "r",
   "file_extension": ".r",
   "mimetype": "text/x-r-source",
   "name": "R",
   "pygments_lexer": "r",
   "version": "4.5.1"
  }
 },
 "nbformat": 4,
 "nbformat_minor": 5
}
