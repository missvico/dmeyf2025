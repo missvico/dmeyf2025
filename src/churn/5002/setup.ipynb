{
 "cells": [
  {
   "cell_type": "code",
   "execution_count": 1,
   "id": "805be786-8a8e-45c6-8b43-2594400a84e8",
   "metadata": {},
   "outputs": [],
   "source": [
    "source(\"/home/vickydiliscia/dmeyf2025/src/churn/5002/config.r\")\n"
   ]
  },
  {
   "cell_type": "code",
   "execution_count": 2,
   "id": "0bb28dd9-9ac3-45b5-b072-846a0515c705",
   "metadata": {},
   "outputs": [
    {
     "name": "stderr",
     "output_type": "stream",
     "text": [
      "Sourcing: 01_clase_ternaria.R\n",
      "\n",
      "Sourcing: 02_percentilizar_variables.R\n",
      "\n",
      "Sourcing: 03_agregar_lags_dataset.R\n",
      "\n",
      "Sourcing: 04_entrenar_modelos.R\n",
      "\n",
      "Sourcing: 05_ensamblar_promedio.R\n",
      "\n",
      "Sourcing: 06_realidad_inicializar.R\n",
      "\n",
      "Sourcing: 07_realidad_evaluar.R\n",
      "\n",
      "Sourcing: 08_particionar.R\n",
      "\n",
      "Sourcing: 09_armar_archivo_envios.R\n",
      "\n",
      "Sourcing: 10_enviar_kaggle.R\n",
      "\n",
      "Sourcing: 11_comparar_cortes.R\n",
      "\n",
      "✅ Todos los utils fueron cargados correctamente.\n",
      "\n"
     ]
    }
   ],
   "source": [
    "# Cargo el index (que a su vez definirá la función)\n",
    "source(file.path(PATH_UTILS, \"index.R\"))\n",
    "\n",
    "# Ejecuto la función que carga todos los utils\n",
    "source_utils(PATH_UTILS)"
   ]
  },
  {
   "cell_type": "code",
   "execution_count": null,
   "id": "cff7a347-e3d4-4ac4-a6b6-b8ac4f379d76",
   "metadata": {},
   "outputs": [],
   "source": [
    "require( \"data.table\" )\n",
    "\n",
    "# leo el dataset\n",
    "dataset <- fread(DATASET_CRUDO)"
   ]
  },
  {
   "cell_type": "code",
   "execution_count": null,
   "id": "8c1b50f8-c315-4681-bbc5-e66a85e36e1b",
   "metadata": {},
   "outputs": [],
   "source": [
    "# Calculo clase_ternaria\n",
    "dataset <- agregar_clase_ternaria(dataset)\n",
    "\n",
    "# pego el resultado en el dataset original y grabo\n",
    "setorder( dsimple, pos )\n",
    "dataset[, clase_ternaria := dsimple$clase_ternaria ]\n",
    "\n",
    "fwrite(\n",
    "  dataset,\n",
    "  file = file.path(PATH_DATASETS, \"competencia_01.csv.gz\"),\n",
    "  sep = \",\"\n",
    ")"
   ]
  },
  {
   "cell_type": "code",
   "execution_count": null,
   "id": "790fd2e3-f931-4905-b0b9-ec7d6c3657ea",
   "metadata": {},
   "outputs": [],
   "source": [
    "# Resumen clase_ternaria\n",
    "setorder( dataset, foto_mes, clase_ternaria, numero_de_cliente)\n",
    "dataset[, .N, list(foto_mes, clase_ternaria)]"
   ]
  },
  {
   "cell_type": "code",
   "execution_count": null,
   "id": "ba1b410a-4b22-48b1-bd2c-1e973889fdbb",
   "metadata": {},
   "outputs": [],
   "source": [
    "Sys.getpid()\n"
   ]
  },
  {
   "cell_type": "code",
   "execution_count": null,
   "id": "2ad19a3c-6079-4009-92b5-e10c04a6c334",
   "metadata": {},
   "outputs": [],
   "source": []
  }
 ],
 "metadata": {
  "kernelspec": {
   "display_name": "R",
   "language": "R",
   "name": "ir"
  },
  "language_info": {
   "codemirror_mode": "r",
   "file_extension": ".r",
   "mimetype": "text/x-r-source",
   "name": "R",
   "pygments_lexer": "r",
   "version": "4.5.1"
  }
 },
 "nbformat": 4,
 "nbformat_minor": 5
}
