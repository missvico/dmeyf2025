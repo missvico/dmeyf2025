{
 "cells": [
  {
   "cell_type": "code",
   "execution_count": 1,
   "id": "fd692fa3-91fb-4047-8710-18bc6ab9b3e4",
   "metadata": {},
   "outputs": [],
   "source": [
    "source(\"/home/vickydiliscia/dmeyf2025/src/competencia/experimento/config.r\")\n",
    "source(\"/home/vickydiliscia/dmeyf2025/src/competencia/experimento/utils/04_entrenar_modelos.R\")\n",
    "source(\"/home/vickydiliscia/dmeyf2025/src/competencia/experimento/utils/05_ensamblar_promedio.R\")\n",
    "\n",
    "## Semillas\n",
    "PARAM <- list()\n",
    "PARAM$semilla_primigenia <- SEEDS[1]\n",
    "PARAM$experimento <- 5001\n",
    "# training y future\n",
    "PARAM$train <- c(202102)\n",
    "PARAM$train_final <- c(202101,202102,202103,202104)\n",
    "PARAM$future <- c(202104)\n",
    "PARAM$future_final <- c(202106)\n",
    "PARAM$semilla_kaggle <- 314159\n",
    "PARAM$cortes <- seq(6000, 19000, by= 500)\n",
    "\n",
    "# undersampling\n",
    "PARAM$trainingstrategy$undersampling <- 0.3\n",
    "\n",
    "# carpeta de trabajo\n",
    "setwd(\"/content/buckets/b1/exp\")\n",
    "experimento_folder <- paste0(\"HT\", PARAM$experimento)\n",
    "dir.create(experimento_folder, showWarnings=FALSE)\n",
    "setwd( paste0(\"/content/buckets/b1/exp/\", experimento_folder ))"
   ]
  },
  {
   "cell_type": "code",
   "execution_count": 2,
   "id": "9c0ed3a4-4ba5-4bfb-bf33-d974ef4fec72",
   "metadata": {},
   "outputs": [],
   "source": [
    "# lectura del dataset\n",
    "dataset <- fread(DATASET_FEATURES, stringsAsFactors= TRUE)"
   ]
  },
  {
   "cell_type": "code",
   "execution_count": null,
   "id": "209edf35-690c-47d0-8f70-030ae0200185",
   "metadata": {},
   "outputs": [],
   "source": [
    "library(data.table)\n",
    "library(ggplot2)\n",
    "\n",
    "# Asumimos que tu dataset se llama \"dataset\"\n",
    "# y que tiene columna \"foto_mes\" y \"payroll\"\n",
    "# Ejemplo: foto_mes = 202101, 202102, ..., 202106\n",
    "\n",
    "# Crear flag de quienes cobraron en 202106\n",
    "dataset[, payroll_flag := ifelse(payroll > 0 & foto_mes == 202106, \"Cobró\", \"No cobró\")]\n",
    "dataset[, payroll_flag := nafill(payroll_flag, type = \"locf\")]\n",
    "\n",
    "# Elegí una variable numérica que quieras ver, ej. mcuenta_corriente\n",
    "var <- \"mcuenta_corriente\"\n",
    "\n",
    "ggplot(dataset, aes(x = as.factor(foto_mes),\n",
    "                    y = get(var),\n",
    "                    color = payroll_flag)) +\n",
    "  geom_jitter(alpha = 0.4, width = 0.2) +\n",
    "  labs(title = sprintf(\"Evolución de %s según payroll en 202106\", var),\n",
    "       x = \"Mes\", y = var, color = \"Grupo\") +\n",
    "  theme_minimal(base_size = 13)\n"
   ]
  },
  {
   "cell_type": "code",
   "execution_count": null,
   "id": "990d336c-7301-4d53-b649-d4d629221c00",
   "metadata": {},
   "outputs": [],
   "source": []
  }
 ],
 "metadata": {
  "kernelspec": {
   "display_name": "R",
   "language": "R",
   "name": "ir"
  },
  "language_info": {
   "codemirror_mode": "r",
   "file_extension": ".r",
   "mimetype": "text/x-r-source",
   "name": "R",
   "pygments_lexer": "r",
   "version": "4.5.1"
  }
 },
 "nbformat": 4,
 "nbformat_minor": 5
}
