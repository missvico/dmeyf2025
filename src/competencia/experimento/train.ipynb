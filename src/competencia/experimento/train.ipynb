{
 "cells": [
  {
   "cell_type": "markdown",
   "id": "49bdfafe-7715-4651-8ada-f264e191f362",
   "metadata": {},
   "source": [
    "# Variables"
   ]
  },
  {
   "cell_type": "code",
   "execution_count": 1,
   "id": "30958176-d114-4d55-be59-bf5d44a41923",
   "metadata": {},
   "outputs": [],
   "source": [
    "source(\"/home/vickydiliscia/dmeyf2025/src/competencia/experimento/config.r\")\n",
    "\n",
    "## Semillas\n",
    "PARAM <- list()\n",
    "PARAM$semilla_primigenia <- SEEDS[1]\n",
    "PARAM$experimento <- 5001\n",
    "# training y future\n",
    "PARAM$train <- c(202102)\n",
    "PARAM$train_final <- c(202101,202102,202103,202104)\n",
    "PARAM$future <- c(202104)\n",
    "PARAM$semilla_kaggle <- 314159\n",
    "PARAM$cortes <- seq(6000, 19000, by= 500)\n",
    "\n",
    "# undersampling\n",
    "PARAM$trainingstrategy$undersampling <- 0.3\n",
    "\n",
    "# carpeta de trabajo\n",
    "setwd(\"/content/buckets/b1/exp\")\n",
    "experimento_folder <- paste0(\"HT\", PARAM$experimento)\n",
    "dir.create(experimento_folder, showWarnings=FALSE)\n",
    "setwd( paste0(\"/content/buckets/b1/exp/\", experimento_folder ))"
   ]
  },
  {
   "cell_type": "markdown",
   "id": "e5a9cad3-1d63-4852-a5e4-3b0a631b543f",
   "metadata": {},
   "source": [
    "# Librerias"
   ]
  },
  {
   "cell_type": "code",
   "execution_count": null,
   "id": "1ef73cbd-7fe6-4b2b-988a-6315fe88759f",
   "metadata": {},
   "outputs": [],
   "source": [
    "# cargo las librerias que necesito\n",
    "require(\"data.table\")\n",
    "require(\"parallel\")\n",
    "\n",
    "if(!require(\"R.utils\")) install.packages(\"R.utils\")\n",
    "require(\"R.utils\")\n",
    "\n",
    "if( !require(\"primes\") ) install.packages(\"primes\")\n",
    "require(\"primes\")\n",
    "\n",
    "if( !require(\"utils\") ) install.packages(\"utils\")\n",
    "require(\"utils\")\n",
    "\n",
    "if( !require(\"rlist\") ) install.packages(\"rlist\")\n",
    "require(\"rlist\")\n",
    "\n",
    "if( !require(\"yaml\")) install.packages(\"yaml\")\n",
    "require(\"yaml\")\n",
    "\n",
    "if( !require(\"lightgbm\") ) install.packages(\"lightgbm\")\n",
    "require(\"lightgbm\")\n",
    "\n",
    "if( !require(\"DiceKriging\") ) install.packages(\"DiceKriging\")\n",
    "require(\"DiceKriging\")\n",
    "\n",
    "if( !require(\"mlrMBO\") ) install.packages(\"mlrMBO\")\n",
    "require(\"mlrMBO\")"
   ]
  },
  {
   "cell_type": "code",
   "execution_count": null,
   "id": "51de5ef0-cdce-4acb-aed8-5f3b67ada345",
   "metadata": {},
   "outputs": [],
   "source": [
    "# Dataset"
   ]
  },
  {
   "cell_type": "code",
   "execution_count": 3,
   "id": "0b821dd1-2be4-46e9-bf3f-8f60f486660a",
   "metadata": {},
   "outputs": [],
   "source": [
    "# lectura del dataset\n",
    "dataset <- fread(DATASET_FEATURES, stringsAsFactors= TRUE)"
   ]
  },
  {
   "cell_type": "code",
   "execution_count": null,
   "id": "f6e97eae-8c5a-4516-80f7-be623d98ce87",
   "metadata": {},
   "outputs": [],
   "source": [
    "# Tomo hiperparametros"
   ]
  },
  {
   "cell_type": "code",
   "execution_count": null,
   "id": "1d3ac271-38a3-4f04-8edf-bbe5e4dcdca1",
   "metadata": {},
   "outputs": [],
   "source": [
    "kbayesiana <- \"bayesiana.RDATA\"  # tu archivo con el opt.state adentro\n",
    "# Cargar el archivo (esto mete en memoria los objetos guardados, p. ej. opt.state)\n",
    "load(kbayesiana)\n",
    "\n",
    "# Si el archivo contiene el estado de la optimización:\n",
    "bayesiana_salida <- list(opt.path = opt.state$opt.path)\n",
    "                         \n",
    "tb_bayesiana <- as.data.table(bayesiana_salida$opt.path)\n",
    "colnames( tb_bayesiana)\n",
    "\n",
    "# almaceno los resultados de la Bayesian Optimization\n",
    "# y capturo los mejores hiperparametros encontrados\n",
    "\n",
    "tb_bayesiana <- as.data.table(bayesiana_salida$opt.path)\n",
    "\n",
    "tb_bayesiana[, iter := .I]\n",
    "\n",
    "# ordeno en forma descendente por AUC = y\n",
    "setorder(tb_bayesiana, -y)\n",
    "\n",
    "# grabo para eventualmente poder utilizarlos en OTRA corrida\n",
    "fwrite( tb_bayesiana,\n",
    "  file= \"BO_log.txt\",\n",
    "  sep= \"\\t\"\n",
    ")\n",
    "\n",
    "# los mejores hiperparámetros son los que quedaron en el registro 1 de la tabla\n",
    "PARAM$out$lgbm$mejores_hiperparametros <- tb_bayesiana[\n",
    "  1, # el primero es el de mejor AUC\n",
    "  setdiff(colnames(tb_bayesiana),\n",
    "    c(\"y\",\"dob\",\"eol\",\"error.message\",\"exec.time\",\"ei\",\"error.model\",\n",
    "      \"train.time\",\"prop.type\",\"propose.time\",\"se\",\"mean\",\"iter\")),\n",
    "  with= FALSE\n",
    "]\n",
    "\n",
    "PARAM$out$lgbm$y <- tb_bayesiana[1, y]\n",
    "\n",
    "write_yaml( PARAM, file=\"PARAM.yml\")\n",
    "\n",
    "\n",
    "print(PARAM$out$lgbm$mejores_hiperparametros)\n",
    "print(PARAM$out$lgbm$y)"
   ]
  },
  {
   "cell_type": "code",
   "execution_count": null,
   "id": "85ecdeac-e91b-40ab-b79b-7d7ad776829a",
   "metadata": {},
   "outputs": [],
   "source": []
  }
 ],
 "metadata": {
  "kernelspec": {
   "display_name": "R",
   "language": "R",
   "name": "ir"
  },
  "language_info": {
   "codemirror_mode": "r",
   "file_extension": ".r",
   "mimetype": "text/x-r-source",
   "name": "R",
   "pygments_lexer": "r",
   "version": "4.5.1"
  }
 },
 "nbformat": 4,
 "nbformat_minor": 5
}
