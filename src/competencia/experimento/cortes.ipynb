{
 "cells": [
  {
   "cell_type": "markdown",
   "id": "c00527c2-c6e1-4254-b871-c8d8399662f2",
   "metadata": {},
   "source": [
    "# Librerias"
   ]
  },
  {
   "cell_type": "code",
   "execution_count": null,
   "id": "6a8f801c-25b7-42c8-978c-5938e816e157",
   "metadata": {},
   "outputs": [],
   "source": [
    "library(data.table)\n",
    "library(lightgbm)\n",
    "library(ggplot2)\n"
   ]
  },
  {
   "cell_type": "markdown",
   "id": "9caca859-4a16-452f-a49d-bd5638cee655",
   "metadata": {},
   "source": [
    "# Variables"
   ]
  },
  {
   "cell_type": "code",
   "execution_count": null,
   "id": "bbb451cc-c395-4ebd-8713-55de2da965e5",
   "metadata": {},
   "outputs": [],
   "source": [
    "SEEDS <- SEEDS \n",
    "mes_train <- c(202101L, 202102L, 202103L)\n",
    "mes_eval  <- 202104L\n",
    "# vector de cortes a evaluar:\n",
    "CORTES <- PARAM$cortes %||% seq(1000, 25000, by = 500)"
   ]
  },
  {
   "cell_type": "code",
   "execution_count": null,
   "id": "d1eaeac4-1f8c-4c8d-8419-907d68b23739",
   "metadata": {},
   "outputs": [],
   "source": []
  }
 ],
 "metadata": {
  "kernelspec": {
   "display_name": "R",
   "language": "R",
   "name": "ir"
  },
  "language_info": {
   "codemirror_mode": "r",
   "file_extension": ".r",
   "mimetype": "text/x-r-source",
   "name": "R",
   "pygments_lexer": "r",
   "version": "4.5.1"
  }
 },
 "nbformat": 4,
 "nbformat_minor": 5
}
