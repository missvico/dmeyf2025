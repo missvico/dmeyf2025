{
 "cells": [
  {
   "cell_type": "code",
   "execution_count": 41,
   "id": "294f7aba-a745-4f13-88c4-c2cd2cb841bd",
   "metadata": {},
   "outputs": [],
   "source": [
    "source(\"/home/vickydiliscia/dmeyf2025/src/competencia/experimento/config.r\")\n",
    "source(\"/home/vickydiliscia/dmeyf2025/src/competencia/experimento/utils/02_percentilizar_variables.R\")\n",
    "source(\"/home/vickydiliscia/dmeyf2025/src/competencia/experimento/utils/03_agregar_lags_dataset.R\")"
   ]
  },
  {
   "cell_type": "code",
   "execution_count": 42,
   "id": "a4d1c7eb-1a0e-49ef-98d6-2388026c1228",
   "metadata": {},
   "outputs": [],
   "source": [
    "require( \"data.table\" )\n",
    "\n",
    "# leo el dataset\n",
    "dataset <- fread(DATASET_CLASE)"
   ]
  },
  {
   "cell_type": "code",
   "execution_count": 43,
   "id": "02f56b44-4f65-4510-ab68-34bbc709f391",
   "metadata": {},
   "outputs": [
    {
     "data": {
      "text/html": [
       "<table class=\"dataframe\">\n",
       "<caption>A data.table: 15 × 3</caption>\n",
       "<thead>\n",
       "\t<tr><th scope=col>foto_mes</th><th scope=col>clase_ternaria</th><th scope=col>N</th></tr>\n",
       "\t<tr><th scope=col>&lt;int&gt;</th><th scope=col>&lt;chr&gt;</th><th scope=col>&lt;int&gt;</th></tr>\n",
       "</thead>\n",
       "<tbody>\n",
       "\t<tr><td>202101</td><td>BAJA+1  </td><td>   622</td></tr>\n",
       "\t<tr><td>202101</td><td>BAJA+2  </td><td>   825</td></tr>\n",
       "\t<tr><td>202101</td><td>CONTINUA</td><td>160080</td></tr>\n",
       "\t<tr><td>202102</td><td>BAJA+1  </td><td>   831</td></tr>\n",
       "\t<tr><td>202102</td><td>BAJA+2  </td><td>  1032</td></tr>\n",
       "\t<tr><td>202102</td><td>CONTINUA</td><td>160292</td></tr>\n",
       "\t<tr><td>202103</td><td>BAJA+1  </td><td>  1039</td></tr>\n",
       "\t<tr><td>202103</td><td>BAJA+2  </td><td>   951</td></tr>\n",
       "\t<tr><td>202103</td><td>CONTINUA</td><td>161119</td></tr>\n",
       "\t<tr><td>202104</td><td>BAJA+1  </td><td>   955</td></tr>\n",
       "\t<tr><td>202104</td><td>BAJA+2  </td><td>  1130</td></tr>\n",
       "\t<tr><td>202104</td><td>CONTINUA</td><td>161333</td></tr>\n",
       "\t<tr><td>202105</td><td>        </td><td>162783</td></tr>\n",
       "\t<tr><td>202105</td><td>BAJA+1  </td><td>  1134</td></tr>\n",
       "\t<tr><td>202106</td><td>        </td><td>164313</td></tr>\n",
       "</tbody>\n",
       "</table>\n"
      ],
      "text/latex": [
       "A data.table: 15 × 3\n",
       "\\begin{tabular}{lll}\n",
       " foto\\_mes & clase\\_ternaria & N\\\\\n",
       " <int> & <chr> & <int>\\\\\n",
       "\\hline\n",
       "\t 202101 & BAJA+1   &    622\\\\\n",
       "\t 202101 & BAJA+2   &    825\\\\\n",
       "\t 202101 & CONTINUA & 160080\\\\\n",
       "\t 202102 & BAJA+1   &    831\\\\\n",
       "\t 202102 & BAJA+2   &   1032\\\\\n",
       "\t 202102 & CONTINUA & 160292\\\\\n",
       "\t 202103 & BAJA+1   &   1039\\\\\n",
       "\t 202103 & BAJA+2   &    951\\\\\n",
       "\t 202103 & CONTINUA & 161119\\\\\n",
       "\t 202104 & BAJA+1   &    955\\\\\n",
       "\t 202104 & BAJA+2   &   1130\\\\\n",
       "\t 202104 & CONTINUA & 161333\\\\\n",
       "\t 202105 &          & 162783\\\\\n",
       "\t 202105 & BAJA+1   &   1134\\\\\n",
       "\t 202106 &          & 164313\\\\\n",
       "\\end{tabular}\n"
      ],
      "text/markdown": [
       "\n",
       "A data.table: 15 × 3\n",
       "\n",
       "| foto_mes &lt;int&gt; | clase_ternaria &lt;chr&gt; | N &lt;int&gt; |\n",
       "|---|---|---|\n",
       "| 202101 | BAJA+1   |    622 |\n",
       "| 202101 | BAJA+2   |    825 |\n",
       "| 202101 | CONTINUA | 160080 |\n",
       "| 202102 | BAJA+1   |    831 |\n",
       "| 202102 | BAJA+2   |   1032 |\n",
       "| 202102 | CONTINUA | 160292 |\n",
       "| 202103 | BAJA+1   |   1039 |\n",
       "| 202103 | BAJA+2   |    951 |\n",
       "| 202103 | CONTINUA | 161119 |\n",
       "| 202104 | BAJA+1   |    955 |\n",
       "| 202104 | BAJA+2   |   1130 |\n",
       "| 202104 | CONTINUA | 161333 |\n",
       "| 202105 | <!----> | 162783 |\n",
       "| 202105 | BAJA+1   |   1134 |\n",
       "| 202106 | <!----> | 164313 |\n",
       "\n"
      ],
      "text/plain": [
       "   foto_mes clase_ternaria N     \n",
       "1  202101   BAJA+1            622\n",
       "2  202101   BAJA+2            825\n",
       "3  202101   CONTINUA       160080\n",
       "4  202102   BAJA+1            831\n",
       "5  202102   BAJA+2           1032\n",
       "6  202102   CONTINUA       160292\n",
       "7  202103   BAJA+1           1039\n",
       "8  202103   BAJA+2            951\n",
       "9  202103   CONTINUA       161119\n",
       "10 202104   BAJA+1            955\n",
       "11 202104   BAJA+2           1130\n",
       "12 202104   CONTINUA       161333\n",
       "13 202105                  162783\n",
       "14 202105   BAJA+1           1134\n",
       "15 202106                  164313"
      ]
     },
     "metadata": {},
     "output_type": "display_data"
    }
   ],
   "source": [
    "# Resumen clase_ternaria\n",
    "setorder( dataset, foto_mes, clase_ternaria, numero_de_cliente)\n",
    "dataset[, .N, list(foto_mes, clase_ternaria)]"
   ]
  },
  {
   "cell_type": "markdown",
   "id": "959231b2-2f3c-427e-8a82-612bcbc5ae23",
   "metadata": {},
   "source": [
    "Percentiles"
   ]
  },
  {
   "cell_type": "code",
   "execution_count": 44,
   "id": "bfa02b44-baf4-41cd-aaa5-78b532ee21fe",
   "metadata": {},
   "outputs": [],
   "source": [
    "dataset <- percentilizar_variables(\n",
    "  df = dataset,\n",
    "  digits = 3,\n",
    "  scale01 = TRUE\n",
    ")\n"
   ]
  },
  {
   "cell_type": "markdown",
   "id": "eec80410-49d7-406a-9cfc-9276e351a8a9",
   "metadata": {},
   "source": [
    "Lags y Delta Lags"
   ]
  },
  {
   "cell_type": "code",
   "execution_count": 45,
   "id": "81acc646-4e17-4198-a693-d36d97b22418",
   "metadata": {},
   "outputs": [],
   "source": [
    "# Agrego lags de orden 1\n",
    "# Lags de orden 1 y 2 para todos los meses por cliente\n",
    "dataset <- agregar_lags_dataset(\n",
    "  df = dataset,\n",
    "  orders = c(1),\n",
    "  include_deltas = TRUE   # ponelo en FALSE si querés solo lags\n",
    ")"
   ]
  },
  {
   "cell_type": "markdown",
   "id": "022ecac2-6fbb-476a-bacb-90e551d5504f",
   "metadata": {},
   "source": [
    "Guardo el dataset con las modificaciones"
   ]
  },
  {
   "cell_type": "code",
   "execution_count": 46,
   "id": "7ef7bad8-515f-4f13-9a70-7772ff5ec466",
   "metadata": {},
   "outputs": [],
   "source": [
    "fwrite(\n",
    "  dataset,\n",
    "  file = file.path(PATH_DATASETS, \"competencia_01_features.csv.gz\"),\n",
    "  sep = \",\"\n",
    ")"
   ]
  }
 ],
 "metadata": {
  "kernelspec": {
   "display_name": "R",
   "language": "R",
   "name": "ir"
  },
  "language_info": {
   "codemirror_mode": "r",
   "file_extension": ".r",
   "mimetype": "text/x-r-source",
   "name": "R",
   "pygments_lexer": "r",
   "version": "4.5.1"
  }
 },
 "nbformat": 4,
 "nbformat_minor": 5
}
